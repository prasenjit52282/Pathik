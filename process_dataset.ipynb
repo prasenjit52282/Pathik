{
 "cells": [
  {
   "cell_type": "code",
   "execution_count": 1,
   "id": "a3b5ab6c",
   "metadata": {},
   "outputs": [],
   "source": [
    "import pickle\n",
    "import numpy as np\n",
    "import pandas as pd\n",
    "from PIL import Image\n",
    "from tqdm import tqdm"
   ]
  },
  {
   "cell_type": "code",
   "execution_count": 2,
   "id": "5d3991f8",
   "metadata": {},
   "outputs": [],
   "source": [
    "WINDOW=10\n",
    "MAXSPEED=110\n",
    "RESIZE=(64,64)"
   ]
  },
  {
   "cell_type": "code",
   "execution_count": 3,
   "id": "95b0b5b4",
   "metadata": {},
   "outputs": [],
   "source": [
    "df=pd.read_csv(\"./Trails/TW/processed_data_100.csv\")"
   ]
  },
  {
   "cell_type": "code",
   "execution_count": 4,
   "id": "c2f3a969",
   "metadata": {},
   "outputs": [],
   "source": [
    "def timezone(ts):\n",
    "    hour=int(str(ts).split()[1].split(':')[0])\n",
    "    if 6<=hour<9:\n",
    "        return 0 #EM\n",
    "    elif 9<=hour<12:\n",
    "        return 1 #M\n",
    "    elif 12<=hour<15:\n",
    "        return 2 #N\n",
    "    else:\n",
    "        return 3 #AN"
   ]
  },
  {
   "cell_type": "code",
   "execution_count": 5,
   "id": "32170faa",
   "metadata": {},
   "outputs": [],
   "source": [
    "df['tzones']=df.start_time.apply(timezone)\n",
    "df=pd.get_dummies(df,columns=['tzones'])\n",
    "df['roads']=df['high_way']+df['two_way']+df['one_way']\n",
    "df['amuse']=df['water']+df['park']+df['other_poi']\n",
    "df['school_exist']=df.school.apply(lambda e: 1 if e>0 else 0)\n",
    "df['medical_exist']=df.medical.apply(lambda e: 1 if e>0 else 0)\n",
    "df['speed']*=3.6\n",
    "df['start_time']=df.start_time.apply(pd.to_datetime)\n",
    "df['Weakend']=df.DayOfWeek.apply(lambda e: 1 if e in [0,6] else 0)"
   ]
  },
  {
   "cell_type": "code",
   "execution_count": 6,
   "id": "e4c3f13a",
   "metadata": {},
   "outputs": [],
   "source": [
    "columns=['start_time', 'patch_path', 'Trail_type', 'trail_no', \n",
    "         'mac', 'rsi', 'mfcc0', 'mfcc1', 'mfcc2', 'mfcc3', 'mfcc4', \n",
    "         'loudness', 'human_made', 'natural_land',  'roads','amuse', 'school_exist', 'medical_exist','POI_open', \n",
    "         'Weakend', 'tzones_0', 'tzones_1', 'tzones_2', 'tzones_3',\n",
    "         'speed']\n",
    "dff=df[columns].copy()"
   ]
  },
  {
   "cell_type": "code",
   "execution_count": 7,
   "id": "6533a1a4",
   "metadata": {},
   "outputs": [],
   "source": [
    "feat_cols=['mac', 'rsi', 'mfcc0', 'mfcc1', 'mfcc2', 'mfcc3', 'mfcc4', 'loudness', \n",
    "           'human_made','natural_land', 'roads', 'amuse', 'school_exist', 'medical_exist','POI_open', \n",
    "           'Weakend', 'tzones_0', 'tzones_1', 'tzones_2', 'tzones_3',\n",
    "           'speed', 'patch_path','Trail_type', 'trail_no']"
   ]
  },
  {
   "cell_type": "code",
   "execution_count": 8,
   "id": "8717f313",
   "metadata": {},
   "outputs": [],
   "source": [
    "trails=dff.groupby('trail_no')"
   ]
  },
  {
   "cell_type": "code",
   "execution_count": 9,
   "id": "12e7ca26",
   "metadata": {},
   "outputs": [
    {
     "name": "stderr",
     "output_type": "stream",
     "text": [
      "100%|██████████████████████████████████████████████████████████████████████████████████████████████████████████████████████████████████████| 168/168 [00:06<00:00, 26.69it/s]\n"
     ]
    }
   ],
   "source": [
    "seq=[];img=[];spd=[];tno=[];ttype=[]\n",
    "for trs,data in tqdm(trails):\n",
    "    data_feat=data.sort_values(by='start_time')[feat_cols].reset_index(drop=True)\n",
    "    valid_seq=list(data_feat.rolling(window=WINDOW))[9:]\n",
    "\n",
    "    for prev,nxt in zip(valid_seq[:-1],valid_seq[1:]):\n",
    "        seq.append(prev.drop(columns=['patch_path','Trail_type', 'trail_no']).values)\n",
    "        img.append(nxt.patch_path.values[0])\n",
    "        spd.append(nxt.speed.values[0])\n",
    "        tno.append(nxt.Trail_type.values[0])\n",
    "        ttype.append(nxt.trail_no.values[0])"
   ]
  },
  {
   "cell_type": "code",
   "execution_count": 10,
   "id": "f684b200",
   "metadata": {},
   "outputs": [],
   "source": [
    "dataset={'seq':np.array(seq),\n",
    "         'img':np.array([np.array(Image.open(img).resize(RESIZE)) for img in img]),\n",
    "         'spd':np.clip(np.array(spd),0,MAXSPEED),\n",
    "         'tno':tno,\n",
    "         'ttype':ttype}"
   ]
  },
  {
   "cell_type": "code",
   "execution_count": 11,
   "id": "856f8a28",
   "metadata": {},
   "outputs": [],
   "source": [
    "with open('./logs/data/dataset.pickle', 'wb') as handle:\n",
    "    pickle.dump(dataset, handle, protocol=pickle.HIGHEST_PROTOCOL)"
   ]
  },
  {
   "cell_type": "code",
   "execution_count": 12,
   "id": "a2d2aa5c",
   "metadata": {},
   "outputs": [],
   "source": [
    "#NICE"
   ]
  }
 ],
 "metadata": {
  "kernelspec": {
   "display_name": "Python 3 (ipykernel)",
   "language": "python",
   "name": "python3"
  },
  "language_info": {
   "codemirror_mode": {
    "name": "ipython",
    "version": 3
   },
   "file_extension": ".py",
   "mimetype": "text/x-python",
   "name": "python",
   "nbconvert_exporter": "python",
   "pygments_lexer": "ipython3",
   "version": "3.10.6"
  }
 },
 "nbformat": 4,
 "nbformat_minor": 5
}
